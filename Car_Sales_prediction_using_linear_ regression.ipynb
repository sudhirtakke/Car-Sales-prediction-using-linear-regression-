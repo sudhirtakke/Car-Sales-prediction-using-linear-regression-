{
 "cells": [
  {
   "cell_type": "markdown",
   "metadata": {},
   "source": [
    " \n",
    " \n",
    "\n",
    "This is a cars dataset having 156 observation and 16 different variables. We have to create a linear regression model using the provided predictor variables for the prediction of sales value of cars.\n",
    "\n"
   ]
  },
  {
   "cell_type": "markdown",
   "metadata": {},
   "source": [
    "### Import the dataset."
   ]
  },
  {
   "cell_type": "code",
   "execution_count": 1,
   "metadata": {
    "scrolled": true
   },
   "outputs": [
    {
     "data": {
      "text/html": [
       "<div>\n",
       "<style scoped>\n",
       "    .dataframe tbody tr th:only-of-type {\n",
       "        vertical-align: middle;\n",
       "    }\n",
       "\n",
       "    .dataframe tbody tr th {\n",
       "        vertical-align: top;\n",
       "    }\n",
       "\n",
       "    .dataframe thead th {\n",
       "        text-align: right;\n",
       "    }\n",
       "</style>\n",
       "<table border=\"1\" class=\"dataframe\">\n",
       "  <thead>\n",
       "    <tr style=\"text-align: right;\">\n",
       "      <th></th>\n",
       "      <th>Manufacturer</th>\n",
       "      <th>Model</th>\n",
       "      <th>Sales_in_thousands</th>\n",
       "      <th>_year_resale_value</th>\n",
       "      <th>Vehicle_type</th>\n",
       "      <th>Price_in_thousands</th>\n",
       "      <th>Engine_size</th>\n",
       "      <th>Horsepower</th>\n",
       "      <th>Wheelbase</th>\n",
       "      <th>Width</th>\n",
       "      <th>Length</th>\n",
       "      <th>Curb_weight</th>\n",
       "      <th>Fuel_capacity</th>\n",
       "      <th>Fuel_efficiency</th>\n",
       "      <th>Latest_Launch</th>\n",
       "      <th>Power_perf_factor</th>\n",
       "    </tr>\n",
       "  </thead>\n",
       "  <tbody>\n",
       "    <tr>\n",
       "      <th>0</th>\n",
       "      <td>Acura</td>\n",
       "      <td>Integra</td>\n",
       "      <td>16.919</td>\n",
       "      <td>16.360</td>\n",
       "      <td>Passenger</td>\n",
       "      <td>21.50</td>\n",
       "      <td>1.8</td>\n",
       "      <td>140</td>\n",
       "      <td>101.2</td>\n",
       "      <td>67.3</td>\n",
       "      <td>172.4</td>\n",
       "      <td>2.639</td>\n",
       "      <td>13.2</td>\n",
       "      <td>28</td>\n",
       "      <td>2/2/2012</td>\n",
       "      <td>58.280150</td>\n",
       "    </tr>\n",
       "    <tr>\n",
       "      <th>1</th>\n",
       "      <td>Acura</td>\n",
       "      <td>TL</td>\n",
       "      <td>39.384</td>\n",
       "      <td>19.875</td>\n",
       "      <td>Passenger</td>\n",
       "      <td>28.40</td>\n",
       "      <td>3.2</td>\n",
       "      <td>225</td>\n",
       "      <td>108.1</td>\n",
       "      <td>70.3</td>\n",
       "      <td>192.9</td>\n",
       "      <td>3.517</td>\n",
       "      <td>17.2</td>\n",
       "      <td>25</td>\n",
       "      <td>6/3/2011</td>\n",
       "      <td>91.370778</td>\n",
       "    </tr>\n",
       "    <tr>\n",
       "      <th>2</th>\n",
       "      <td>Acura</td>\n",
       "      <td>CL</td>\n",
       "      <td>14.114</td>\n",
       "      <td>18.225</td>\n",
       "      <td>Passenger</td>\n",
       "      <td>29.00</td>\n",
       "      <td>3.2</td>\n",
       "      <td>225</td>\n",
       "      <td>106.9</td>\n",
       "      <td>70.6</td>\n",
       "      <td>192.0</td>\n",
       "      <td>3.470</td>\n",
       "      <td>17.2</td>\n",
       "      <td>26</td>\n",
       "      <td>1/4/2012</td>\n",
       "      <td>90.345000</td>\n",
       "    </tr>\n",
       "    <tr>\n",
       "      <th>3</th>\n",
       "      <td>Acura</td>\n",
       "      <td>RL</td>\n",
       "      <td>8.588</td>\n",
       "      <td>29.725</td>\n",
       "      <td>Passenger</td>\n",
       "      <td>42.00</td>\n",
       "      <td>3.5</td>\n",
       "      <td>210</td>\n",
       "      <td>114.6</td>\n",
       "      <td>71.4</td>\n",
       "      <td>196.6</td>\n",
       "      <td>3.850</td>\n",
       "      <td>18.0</td>\n",
       "      <td>22</td>\n",
       "      <td>3/10/2011</td>\n",
       "      <td>91.389779</td>\n",
       "    </tr>\n",
       "    <tr>\n",
       "      <th>4</th>\n",
       "      <td>Audi</td>\n",
       "      <td>A4</td>\n",
       "      <td>20.397</td>\n",
       "      <td>22.255</td>\n",
       "      <td>Passenger</td>\n",
       "      <td>23.99</td>\n",
       "      <td>1.8</td>\n",
       "      <td>150</td>\n",
       "      <td>102.6</td>\n",
       "      <td>68.2</td>\n",
       "      <td>178.0</td>\n",
       "      <td>2.998</td>\n",
       "      <td>16.4</td>\n",
       "      <td>27</td>\n",
       "      <td>10/8/2011</td>\n",
       "      <td>62.777639</td>\n",
       "    </tr>\n",
       "  </tbody>\n",
       "</table>\n",
       "</div>"
      ],
      "text/plain": [
       "  Manufacturer    Model  Sales_in_thousands  _year_resale_value Vehicle_type  \\\n",
       "0        Acura  Integra              16.919              16.360    Passenger   \n",
       "1        Acura       TL              39.384              19.875    Passenger   \n",
       "2        Acura       CL              14.114              18.225    Passenger   \n",
       "3        Acura       RL               8.588              29.725    Passenger   \n",
       "4         Audi       A4              20.397              22.255    Passenger   \n",
       "\n",
       "   Price_in_thousands  Engine_size  Horsepower  Wheelbase  Width  Length  \\\n",
       "0               21.50          1.8         140      101.2   67.3   172.4   \n",
       "1               28.40          3.2         225      108.1   70.3   192.9   \n",
       "2               29.00          3.2         225      106.9   70.6   192.0   \n",
       "3               42.00          3.5         210      114.6   71.4   196.6   \n",
       "4               23.99          1.8         150      102.6   68.2   178.0   \n",
       "\n",
       "   Curb_weight  Fuel_capacity  Fuel_efficiency Latest_Launch  \\\n",
       "0        2.639           13.2               28      2/2/2012   \n",
       "1        3.517           17.2               25      6/3/2011   \n",
       "2        3.470           17.2               26      1/4/2012   \n",
       "3        3.850           18.0               22     3/10/2011   \n",
       "4        2.998           16.4               27     10/8/2011   \n",
       "\n",
       "   Power_perf_factor  \n",
       "0          58.280150  \n",
       "1          91.370778  \n",
       "2          90.345000  \n",
       "3          91.389779  \n",
       "4          62.777639  "
      ]
     },
     "execution_count": 1,
     "metadata": {},
     "output_type": "execute_result"
    }
   ],
   "source": [
    "import pandas as pd\n",
    "car = pd.read_csv(r'C:\\Users\\SUDHIR\\car_sales.csv')\n",
    "car.head()"
   ]
  },
  {
   "cell_type": "markdown",
   "metadata": {},
   "source": [
    "### Check the shape of the dataset."
   ]
  },
  {
   "cell_type": "code",
   "execution_count": 2,
   "metadata": {},
   "outputs": [
    {
     "data": {
      "text/plain": [
       "(156, 16)"
      ]
     },
     "execution_count": 2,
     "metadata": {},
     "output_type": "execute_result"
    }
   ],
   "source": [
    "def lr():\n",
    "    return car.shape \n",
    "lr()"
   ]
  },
  {
   "cell_type": "markdown",
   "metadata": {},
   "source": [
    "### Check the descriptive stats of the dataset."
   ]
  },
  {
   "cell_type": "code",
   "execution_count": 3,
   "metadata": {},
   "outputs": [
    {
     "data": {
      "text/html": [
       "<div>\n",
       "<style scoped>\n",
       "    .dataframe tbody tr th:only-of-type {\n",
       "        vertical-align: middle;\n",
       "    }\n",
       "\n",
       "    .dataframe tbody tr th {\n",
       "        vertical-align: top;\n",
       "    }\n",
       "\n",
       "    .dataframe thead th {\n",
       "        text-align: right;\n",
       "    }\n",
       "</style>\n",
       "<table border=\"1\" class=\"dataframe\">\n",
       "  <thead>\n",
       "    <tr style=\"text-align: right;\">\n",
       "      <th></th>\n",
       "      <th>Sales_in_thousands</th>\n",
       "      <th>_year_resale_value</th>\n",
       "      <th>Price_in_thousands</th>\n",
       "      <th>Engine_size</th>\n",
       "      <th>Horsepower</th>\n",
       "      <th>Wheelbase</th>\n",
       "      <th>Width</th>\n",
       "      <th>Length</th>\n",
       "      <th>Curb_weight</th>\n",
       "      <th>Fuel_capacity</th>\n",
       "      <th>Fuel_efficiency</th>\n",
       "      <th>Power_perf_factor</th>\n",
       "    </tr>\n",
       "  </thead>\n",
       "  <tbody>\n",
       "    <tr>\n",
       "      <th>count</th>\n",
       "      <td>151.000000</td>\n",
       "      <td>156.000000</td>\n",
       "      <td>156.000000</td>\n",
       "      <td>156.000000</td>\n",
       "      <td>156.000000</td>\n",
       "      <td>156.000000</td>\n",
       "      <td>156.000000</td>\n",
       "      <td>156.000000</td>\n",
       "      <td>156.000000</td>\n",
       "      <td>156.000000</td>\n",
       "      <td>156.000000</td>\n",
       "      <td>156.000000</td>\n",
       "    </tr>\n",
       "    <tr>\n",
       "      <th>mean</th>\n",
       "      <td>52.051742</td>\n",
       "      <td>18.063571</td>\n",
       "      <td>27.401071</td>\n",
       "      <td>3.060897</td>\n",
       "      <td>185.948718</td>\n",
       "      <td>107.487179</td>\n",
       "      <td>71.150000</td>\n",
       "      <td>187.343590</td>\n",
       "      <td>3.380462</td>\n",
       "      <td>17.951923</td>\n",
       "      <td>23.833333</td>\n",
       "      <td>77.128857</td>\n",
       "    </tr>\n",
       "    <tr>\n",
       "      <th>std</th>\n",
       "      <td>68.907116</td>\n",
       "      <td>10.076941</td>\n",
       "      <td>14.305863</td>\n",
       "      <td>1.044653</td>\n",
       "      <td>56.700321</td>\n",
       "      <td>7.641303</td>\n",
       "      <td>3.451872</td>\n",
       "      <td>13.431754</td>\n",
       "      <td>0.629200</td>\n",
       "      <td>3.887921</td>\n",
       "      <td>4.256052</td>\n",
       "      <td>25.084045</td>\n",
       "    </tr>\n",
       "    <tr>\n",
       "      <th>min</th>\n",
       "      <td>0.110000</td>\n",
       "      <td>5.160000</td>\n",
       "      <td>9.235000</td>\n",
       "      <td>1.000000</td>\n",
       "      <td>55.000000</td>\n",
       "      <td>92.600000</td>\n",
       "      <td>62.600000</td>\n",
       "      <td>149.400000</td>\n",
       "      <td>1.895000</td>\n",
       "      <td>10.300000</td>\n",
       "      <td>15.000000</td>\n",
       "      <td>23.276272</td>\n",
       "    </tr>\n",
       "    <tr>\n",
       "      <th>25%</th>\n",
       "      <td>13.630000</td>\n",
       "      <td>12.527500</td>\n",
       "      <td>18.081250</td>\n",
       "      <td>2.300000</td>\n",
       "      <td>149.500000</td>\n",
       "      <td>103.000000</td>\n",
       "      <td>68.400000</td>\n",
       "      <td>177.575000</td>\n",
       "      <td>2.973000</td>\n",
       "      <td>15.800000</td>\n",
       "      <td>21.000000</td>\n",
       "      <td>60.567577</td>\n",
       "    </tr>\n",
       "    <tr>\n",
       "      <th>50%</th>\n",
       "      <td>27.609000</td>\n",
       "      <td>17.617500</td>\n",
       "      <td>23.099500</td>\n",
       "      <td>3.000000</td>\n",
       "      <td>177.500000</td>\n",
       "      <td>107.000000</td>\n",
       "      <td>70.550000</td>\n",
       "      <td>187.900000</td>\n",
       "      <td>3.355000</td>\n",
       "      <td>17.200000</td>\n",
       "      <td>24.000000</td>\n",
       "      <td>72.160636</td>\n",
       "    </tr>\n",
       "    <tr>\n",
       "      <th>75%</th>\n",
       "      <td>65.905500</td>\n",
       "      <td>18.089731</td>\n",
       "      <td>31.938750</td>\n",
       "      <td>3.575000</td>\n",
       "      <td>215.000000</td>\n",
       "      <td>112.200000</td>\n",
       "      <td>73.425000</td>\n",
       "      <td>196.125000</td>\n",
       "      <td>3.788750</td>\n",
       "      <td>19.575000</td>\n",
       "      <td>26.000000</td>\n",
       "      <td>89.623790</td>\n",
       "    </tr>\n",
       "    <tr>\n",
       "      <th>max</th>\n",
       "      <td>540.561000</td>\n",
       "      <td>67.550000</td>\n",
       "      <td>85.500000</td>\n",
       "      <td>8.000000</td>\n",
       "      <td>450.000000</td>\n",
       "      <td>138.700000</td>\n",
       "      <td>79.900000</td>\n",
       "      <td>224.500000</td>\n",
       "      <td>5.572000</td>\n",
       "      <td>32.000000</td>\n",
       "      <td>45.000000</td>\n",
       "      <td>188.144323</td>\n",
       "    </tr>\n",
       "  </tbody>\n",
       "</table>\n",
       "</div>"
      ],
      "text/plain": [
       "       Sales_in_thousands  _year_resale_value  Price_in_thousands  \\\n",
       "count          151.000000          156.000000          156.000000   \n",
       "mean            52.051742           18.063571           27.401071   \n",
       "std             68.907116           10.076941           14.305863   \n",
       "min              0.110000            5.160000            9.235000   \n",
       "25%             13.630000           12.527500           18.081250   \n",
       "50%             27.609000           17.617500           23.099500   \n",
       "75%             65.905500           18.089731           31.938750   \n",
       "max            540.561000           67.550000           85.500000   \n",
       "\n",
       "       Engine_size  Horsepower   Wheelbase       Width      Length  \\\n",
       "count   156.000000  156.000000  156.000000  156.000000  156.000000   \n",
       "mean      3.060897  185.948718  107.487179   71.150000  187.343590   \n",
       "std       1.044653   56.700321    7.641303    3.451872   13.431754   \n",
       "min       1.000000   55.000000   92.600000   62.600000  149.400000   \n",
       "25%       2.300000  149.500000  103.000000   68.400000  177.575000   \n",
       "50%       3.000000  177.500000  107.000000   70.550000  187.900000   \n",
       "75%       3.575000  215.000000  112.200000   73.425000  196.125000   \n",
       "max       8.000000  450.000000  138.700000   79.900000  224.500000   \n",
       "\n",
       "       Curb_weight  Fuel_capacity  Fuel_efficiency  Power_perf_factor  \n",
       "count   156.000000     156.000000       156.000000         156.000000  \n",
       "mean      3.380462      17.951923        23.833333          77.128857  \n",
       "std       0.629200       3.887921         4.256052          25.084045  \n",
       "min       1.895000      10.300000        15.000000          23.276272  \n",
       "25%       2.973000      15.800000        21.000000          60.567577  \n",
       "50%       3.355000      17.200000        24.000000          72.160636  \n",
       "75%       3.788750      19.575000        26.000000          89.623790  \n",
       "max       5.572000      32.000000        45.000000         188.144323  "
      ]
     },
     "execution_count": 3,
     "metadata": {},
     "output_type": "execute_result"
    }
   ],
   "source": [
    "def lr():\n",
    "    return car.describe()\n",
    "lr()"
   ]
  },
  {
   "cell_type": "markdown",
   "metadata": {},
   "source": [
    "### Code to understand the total count and percentage of missing values."
   ]
  },
  {
   "cell_type": "code",
   "execution_count": 4,
   "metadata": {},
   "outputs": [
    {
     "data": {
      "text/html": [
       "<div>\n",
       "<style scoped>\n",
       "    .dataframe tbody tr th:only-of-type {\n",
       "        vertical-align: middle;\n",
       "    }\n",
       "\n",
       "    .dataframe tbody tr th {\n",
       "        vertical-align: top;\n",
       "    }\n",
       "\n",
       "    .dataframe thead th {\n",
       "        text-align: right;\n",
       "    }\n",
       "</style>\n",
       "<table border=\"1\" class=\"dataframe\">\n",
       "  <thead>\n",
       "    <tr style=\"text-align: right;\">\n",
       "      <th></th>\n",
       "      <th>Missing_count</th>\n",
       "      <th>missing_percent</th>\n",
       "    </tr>\n",
       "  </thead>\n",
       "  <tbody>\n",
       "    <tr>\n",
       "      <th>Sales_in_thousands</th>\n",
       "      <td>5</td>\n",
       "      <td>0.032051</td>\n",
       "    </tr>\n",
       "    <tr>\n",
       "      <th>Power_perf_factor</th>\n",
       "      <td>0</td>\n",
       "      <td>0.000000</td>\n",
       "    </tr>\n",
       "    <tr>\n",
       "      <th>Latest_Launch</th>\n",
       "      <td>0</td>\n",
       "      <td>0.000000</td>\n",
       "    </tr>\n",
       "    <tr>\n",
       "      <th>Fuel_efficiency</th>\n",
       "      <td>0</td>\n",
       "      <td>0.000000</td>\n",
       "    </tr>\n",
       "    <tr>\n",
       "      <th>Fuel_capacity</th>\n",
       "      <td>0</td>\n",
       "      <td>0.000000</td>\n",
       "    </tr>\n",
       "  </tbody>\n",
       "</table>\n",
       "</div>"
      ],
      "text/plain": [
       "                    Missing_count  missing_percent\n",
       "Sales_in_thousands              5         0.032051\n",
       "Power_perf_factor               0         0.000000\n",
       "Latest_Launch                   0         0.000000\n",
       "Fuel_efficiency                 0         0.000000\n",
       "Fuel_capacity                   0         0.000000"
      ]
     },
     "execution_count": 4,
     "metadata": {},
     "output_type": "execute_result"
    }
   ],
   "source": [
    "def lr():\n",
    "    # Count total missing and sort it     \n",
    "    miss = car.isnull().sum().sort_values(ascending = False) \n",
    "    # Calucalte percent\n",
    "    mp = (car.isnull().sum() / car.isnull().count()).sort_values(ascending = False)\n",
    "    # concatenate total and percent\n",
    "    missing = pd.concat([miss, mp], axis = 1, keys = ['Missing_count', 'missing_percent'])\n",
    "    # print missing data assigning a varibale\n",
    "    return missing.head(5)\n",
    "lr()"
   ]
  },
  {
   "cell_type": "markdown",
   "metadata": {},
   "source": [
    "### Impute the missing value using \"median\" groupby Manufacturer. "
   ]
  },
  {
   "cell_type": "code",
   "execution_count": 5,
   "metadata": {},
   "outputs": [
    {
     "name": "stdout",
     "output_type": "stream",
     "text": [
      "Manufacturer          0\n",
      "Model                 0\n",
      "Sales_in_thousands    0\n",
      "_year_resale_value    0\n",
      "Vehicle_type          0\n",
      "Price_in_thousands    0\n",
      "Engine_size           0\n",
      "Horsepower            0\n",
      "Wheelbase             0\n",
      "Width                 0\n",
      "Length                0\n",
      "Curb_weight           0\n",
      "Fuel_capacity         0\n",
      "Fuel_efficiency       0\n",
      "Latest_Launch         0\n",
      "Power_perf_factor     0\n",
      "dtype: int64\n"
     ]
    }
   ],
   "source": [
    "\n",
    "def lr():\n",
    "    # your code here to impute missing value using median and groupby\n",
    "    car['Sales_in_thousands'].fillna(car.groupby('Manufacturer')['Sales_in_thousands'].transform('median'),inplace = True)\n",
    "    return\n",
    "lr()\n",
    "print (car.isnull().sum())"
   ]
  },
  {
   "cell_type": "markdown",
   "metadata": {},
   "source": [
    "###  Create a dummy variable for \"Vehicle_type\"  and  drop the original variable."
   ]
  },
  {
   "cell_type": "code",
   "execution_count": 6,
   "metadata": {},
   "outputs": [
    {
     "name": "stdout",
     "output_type": "stream",
     "text": [
      "  Manufacturer    Model  Sales_in_thousands  _year_resale_value  \\\n",
      "0        Acura  Integra              16.919              16.360   \n",
      "1        Acura       TL              39.384              19.875   \n",
      "2        Acura       CL              14.114              18.225   \n",
      "3        Acura       RL               8.588              29.725   \n",
      "4         Audi       A4              20.397              22.255   \n",
      "\n",
      "   Price_in_thousands  Engine_size  Horsepower  Wheelbase  Width  Length  \\\n",
      "0               21.50          1.8         140      101.2   67.3   172.4   \n",
      "1               28.40          3.2         225      108.1   70.3   192.9   \n",
      "2               29.00          3.2         225      106.9   70.6   192.0   \n",
      "3               42.00          3.5         210      114.6   71.4   196.6   \n",
      "4               23.99          1.8         150      102.6   68.2   178.0   \n",
      "\n",
      "   Curb_weight  Fuel_capacity  Fuel_efficiency Latest_Launch  \\\n",
      "0        2.639           13.2               28      2/2/2012   \n",
      "1        3.517           17.2               25      6/3/2011   \n",
      "2        3.470           17.2               26      1/4/2012   \n",
      "3        3.850           18.0               22     3/10/2011   \n",
      "4        2.998           16.4               27     10/8/2011   \n",
      "\n",
      "   Power_perf_factor  Vehicle_type_Passenger  \n",
      "0          58.280150                       1  \n",
      "1          91.370778                       1  \n",
      "2          90.345000                       1  \n",
      "3          91.389779                       1  \n",
      "4          62.777639                       1  \n"
     ]
    }
   ],
   "source": [
    "car_dummy =pd.DataFrame()                                                           # Creating an empty data frame\n",
    "def lr(car):\n",
    "    # your code to create dummies\n",
    "    car_dummy = pd.get_dummies(car, columns=['Vehicle_type'], drop_first= True)\n",
    "    return car_dummy\n",
    "car_dummy = lr(car)\n",
    "print(car_dummy.head(5))\n"
   ]
  },
  {
   "cell_type": "markdown",
   "metadata": {},
   "source": [
    "###  Drop the below mentioned variables which will not help in prediction of sales.\n",
    "``` ['Manufacturer', 'Model', 'Latest_Launch'] ```"
   ]
  },
  {
   "cell_type": "code",
   "execution_count": 7,
   "metadata": {},
   "outputs": [
    {
     "name": "stdout",
     "output_type": "stream",
     "text": [
      "   Sales_in_thousands  _year_resale_value  Price_in_thousands  Engine_size  \\\n",
      "0              16.919              16.360               21.50          1.8   \n",
      "1              39.384              19.875               28.40          3.2   \n",
      "2              14.114              18.225               29.00          3.2   \n",
      "3               8.588              29.725               42.00          3.5   \n",
      "4              20.397              22.255               23.99          1.8   \n",
      "\n",
      "   Horsepower  Wheelbase  Width  Length  Curb_weight  Fuel_capacity  \\\n",
      "0         140      101.2   67.3   172.4        2.639           13.2   \n",
      "1         225      108.1   70.3   192.9        3.517           17.2   \n",
      "2         225      106.9   70.6   192.0        3.470           17.2   \n",
      "3         210      114.6   71.4   196.6        3.850           18.0   \n",
      "4         150      102.6   68.2   178.0        2.998           16.4   \n",
      "\n",
      "   Fuel_efficiency  Power_perf_factor  Vehicle_type_Passenger  \n",
      "0               28          58.280150                       1  \n",
      "1               25          91.370778                       1  \n",
      "2               26          90.345000                       1  \n",
      "3               22          91.389779                       1  \n",
      "4               27          62.777639                       1  \n"
     ]
    }
   ],
   "source": [
    "def lr(car_dummy):\n",
    "    # your code to drop the useless variables\n",
    "    car_drop = car_dummy.drop(labels=None, axis=1, index=None, columns=['Manufacturer', 'Model', 'Latest_Launch'], level=None, inplace=False, errors='raise')\n",
    "    return car_drop\n",
    "car_dummy = lr(car_dummy)\n",
    "print(car_dummy.head(5))\n"
   ]
  },
  {
   "cell_type": "markdown",
   "metadata": {},
   "source": [
    "### Check for outliers using Box Plot"
   ]
  },
  {
   "cell_type": "code",
   "execution_count": 8,
   "metadata": {},
   "outputs": [],
   "source": [
    "def lr():\n",
    "    import seaborn as sns\n",
    "    sns.boxplot(data=car_dummy, orient=\"h\", palette=\"Set2\")\n",
    "    return None \n",
    "lr()"
   ]
  },
  {
   "cell_type": "markdown",
   "metadata": {},
   "source": [
    "###  Calculate the Inter quantile range and then drop off outliers for quantile values outside 5 to 95 range."
   ]
  },
  {
   "cell_type": "code",
   "execution_count": 9,
   "metadata": {},
   "outputs": [
    {
     "data": {
      "text/plain": [
       "(154, 13)"
      ]
     },
     "execution_count": 9,
     "metadata": {},
     "output_type": "execute_result"
    }
   ],
   "source": [
    "def lr(car_dummy):\n",
    "    import pandas as pd\n",
    "    # Calculate Q1 value using quantile(0.05)\n",
    "    Q1 = car_dummy.quantile(q=0.05)\n",
    "    # Calculate Q3 value using quantile value (0.95)\n",
    "    Q3 = car_dummy.quantile(q=0.95)\n",
    "    # Calculate Inter Quartile Range\n",
    "    Q_diff = Q3 - Q1\n",
    "    # create a variable and check for outliers and drop them off\n",
    "    car_out = car_dummy[~((car_dummy < (Q1 - Q_diff))|(car_dummy > (Q3 + Q_diff))).any(axis=1)]\n",
    "          \n",
    "    return car_out\n",
    "car_dummy = lr(car_dummy)\n",
    "car_dummy.shape"
   ]
  },
  {
   "cell_type": "code",
   "execution_count": 10,
   "metadata": {},
   "outputs": [
    {
     "data": {
      "image/png": "[encoded data removed]",
      "text/plain": [
       "<Figure size 432x288 with 1 Axes>"
      ]
     },
     "metadata": {},
     "output_type": "display_data"
    }
   ],
   "source": [
    "def lr1():\n",
    "    import seaborn as sns\n",
    "    sns.boxplot(data=car_dummy, orient=\"h\", palette=\"Set2\")\n",
    "    return None \n",
    "lr1()"
   ]
  },
  {
   "cell_type": "markdown",
   "metadata": {},
   "source": [
    "###  Write code to standardize the variable for model building (return value will be numpy.ndarray)."
   ]
  },
  {
   "cell_type": "code",
   "execution_count": 11,
   "metadata": {},
   "outputs": [
    {
     "name": "stdout",
     "output_type": "stream",
     "text": [
      "[ 0.2147879   0.09116773  0.18859201  0.77851497  0.10306365 -0.22729613\n",
      "  0.43698582  0.22647767 -0.18117654  0.25690808  0.64045582  0.58234907]\n"
     ]
    }
   ],
   "source": [
    "std = pd.DataFrame()\n",
    "car_modify = car_dummy.drop(car_dummy[['Sales_in_thousands']], axis=1)\n",
    "def lr(car_modify):\n",
    "    from sklearn.preprocessing import StandardScaler\n",
    "    # code to scale the variables\n",
    "    car_scalar = StandardScaler().fit_transform(car_modify)\n",
    "    # code to transform the variables and standardize them\n",
    "    return car_scalar\n",
    "std = lr(car_modify)\n",
    "print(std[1])"
   ]
  },
  {
   "cell_type": "code",
   "execution_count": 12,
   "metadata": {},
   "outputs": [
    {
     "name": "stdout",
     "output_type": "stream",
     "text": [
      "[[-0.15270566 -0.40386698 -1.26877133 ...  0.97191732 -0.76842508\n",
      "   0.58234907]\n",
      " [ 0.2147879   0.09116773  0.18859201 ...  0.25690808  0.64045582\n",
      "   0.58234907]\n",
      " [ 0.04228025  0.13421423  0.18859201 ...  0.4952445   0.59678186\n",
      "   0.58234907]\n",
      " ...\n",
      " [ 0.02638605  0.11986539 -0.64418704 ...  0.25690808 -0.22021826\n",
      "   0.58234907]\n",
      " [ 0.02638605  1.31799289 -0.74828442 ... -0.21976475  1.07697408\n",
      "   0.58234907]\n",
      " [ 0.02638605  0.63642335 -0.12370014 ...  0.01857167  0.40053237\n",
      "   0.58234907]]\n"
     ]
    }
   ],
   "source": [
    "print(std)"
   ]
  },
  {
   "cell_type": "markdown",
   "metadata": {},
   "source": [
    "###  Write a code to create a DataFrame from the standardized value calculated above"
   ]
  },
  {
   "cell_type": "markdown",
   "metadata": {},
   "source": [
    "### Since the standardized value is a numpy array, add the data to a dataframe with column header as mentioned below in the same order\n",
    "\n",
    "```['_year_resale_value','Price_in_thousands','Engine_size','Horsepower','Wheelbase','Width','Length','Curb_weight','Fuel_capacity','Fuel_efficiency','Power_perf_factor','Vehicle_type_Passenger'] ```"
   ]
  },
  {
   "cell_type": "code",
   "execution_count": 13,
   "metadata": {},
   "outputs": [],
   "source": [
    "columns = ['_year_resale_value','Price_in_thousands','Engine_size','Horsepower','Wheelbase','Width','Length','Curb_weight','Fuel_capacity','Fuel_efficiency','Power_perf_factor','Vehicle_type_Passenger']\n",
    "def lr(std):\n",
    "    # create a dataframe cars for the numpy array\n",
    "    cars = pd.DataFrame(data=std, index=None, columns=columns, dtype=None, copy=False)\n",
    "    # assign the column headers with the columns mentioned above\n",
    "    return cars\n",
    "cars = lr(std)"
   ]
  },
  {
   "cell_type": "code",
   "execution_count": 14,
   "metadata": {},
   "outputs": [
    {
     "data": {
      "text/html": [
       "<div>\n",
       "<style scoped>\n",
       "    .dataframe tbody tr th:only-of-type {\n",
       "        vertical-align: middle;\n",
       "    }\n",
       "\n",
       "    .dataframe tbody tr th {\n",
       "        vertical-align: top;\n",
       "    }\n",
       "\n",
       "    .dataframe thead th {\n",
       "        text-align: right;\n",
       "    }\n",
       "</style>\n",
       "<table border=\"1\" class=\"dataframe\">\n",
       "  <thead>\n",
       "    <tr style=\"text-align: right;\">\n",
       "      <th></th>\n",
       "      <th>_year_resale_value</th>\n",
       "      <th>Price_in_thousands</th>\n",
       "      <th>Engine_size</th>\n",
       "      <th>Horsepower</th>\n",
       "      <th>Wheelbase</th>\n",
       "      <th>Width</th>\n",
       "      <th>Length</th>\n",
       "      <th>Curb_weight</th>\n",
       "      <th>Fuel_capacity</th>\n",
       "      <th>Fuel_efficiency</th>\n",
       "      <th>Power_perf_factor</th>\n",
       "      <th>Vehicle_type_Passenger</th>\n",
       "    </tr>\n",
       "  </thead>\n",
       "  <tbody>\n",
       "    <tr>\n",
       "      <th>0</th>\n",
       "      <td>-0.152706</td>\n",
       "      <td>-0.403867</td>\n",
       "      <td>-1.268771</td>\n",
       "      <td>-0.835991</td>\n",
       "      <td>-0.856756</td>\n",
       "      <td>-1.114212</td>\n",
       "      <td>-1.126791</td>\n",
       "      <td>-1.172960</td>\n",
       "      <td>-1.218395</td>\n",
       "      <td>0.971917</td>\n",
       "      <td>-0.768425</td>\n",
       "      <td>0.582349</td>\n",
       "    </tr>\n",
       "    <tr>\n",
       "      <th>1</th>\n",
       "      <td>0.214788</td>\n",
       "      <td>0.091168</td>\n",
       "      <td>0.188592</td>\n",
       "      <td>0.778515</td>\n",
       "      <td>0.103064</td>\n",
       "      <td>-0.227296</td>\n",
       "      <td>0.436986</td>\n",
       "      <td>0.226478</td>\n",
       "      <td>-0.181177</td>\n",
       "      <td>0.256908</td>\n",
       "      <td>0.640456</td>\n",
       "      <td>0.582349</td>\n",
       "    </tr>\n",
       "    <tr>\n",
       "      <th>2</th>\n",
       "      <td>0.042280</td>\n",
       "      <td>0.134214</td>\n",
       "      <td>0.188592</td>\n",
       "      <td>0.778515</td>\n",
       "      <td>-0.063862</td>\n",
       "      <td>-0.138605</td>\n",
       "      <td>0.368332</td>\n",
       "      <td>0.151565</td>\n",
       "      <td>-0.181177</td>\n",
       "      <td>0.495244</td>\n",
       "      <td>0.596782</td>\n",
       "      <td>0.582349</td>\n",
       "    </tr>\n",
       "    <tr>\n",
       "      <th>3</th>\n",
       "      <td>1.244606</td>\n",
       "      <td>1.066888</td>\n",
       "      <td>0.500884</td>\n",
       "      <td>0.493602</td>\n",
       "      <td>1.007242</td>\n",
       "      <td>0.097906</td>\n",
       "      <td>0.719229</td>\n",
       "      <td>0.757244</td>\n",
       "      <td>0.026267</td>\n",
       "      <td>-0.458101</td>\n",
       "      <td>0.641265</td>\n",
       "      <td>0.582349</td>\n",
       "    </tr>\n",
       "    <tr>\n",
       "      <th>4</th>\n",
       "      <td>0.463617</td>\n",
       "      <td>-0.225224</td>\n",
       "      <td>-1.268771</td>\n",
       "      <td>-0.646049</td>\n",
       "      <td>-0.662010</td>\n",
       "      <td>-0.848137</td>\n",
       "      <td>-0.699613</td>\n",
       "      <td>-0.600753</td>\n",
       "      <td>-0.388620</td>\n",
       "      <td>0.733581</td>\n",
       "      <td>-0.576938</td>\n",
       "      <td>0.582349</td>\n",
       "    </tr>\n",
       "  </tbody>\n",
       "</table>\n",
       "</div>"
      ],
      "text/plain": [
       "   _year_resale_value  Price_in_thousands  Engine_size  Horsepower  Wheelbase  \\\n",
       "0           -0.152706           -0.403867    -1.268771   -0.835991  -0.856756   \n",
       "1            0.214788            0.091168     0.188592    0.778515   0.103064   \n",
       "2            0.042280            0.134214     0.188592    0.778515  -0.063862   \n",
       "3            1.244606            1.066888     0.500884    0.493602   1.007242   \n",
       "4            0.463617           -0.225224    -1.268771   -0.646049  -0.662010   \n",
       "\n",
       "      Width    Length  Curb_weight  Fuel_capacity  Fuel_efficiency  \\\n",
       "0 -1.114212 -1.126791    -1.172960      -1.218395         0.971917   \n",
       "1 -0.227296  0.436986     0.226478      -0.181177         0.256908   \n",
       "2 -0.138605  0.368332     0.151565      -0.181177         0.495244   \n",
       "3  0.097906  0.719229     0.757244       0.026267        -0.458101   \n",
       "4 -0.848137 -0.699613    -0.600753      -0.388620         0.733581   \n",
       "\n",
       "   Power_perf_factor  Vehicle_type_Passenger  \n",
       "0          -0.768425                0.582349  \n",
       "1           0.640456                0.582349  \n",
       "2           0.596782                0.582349  \n",
       "3           0.641265                0.582349  \n",
       "4          -0.576938                0.582349  "
      ]
     },
     "execution_count": 14,
     "metadata": {},
     "output_type": "execute_result"
    }
   ],
   "source": [
    "cars.head()"
   ]
  },
  {
   "cell_type": "markdown",
   "metadata": {},
   "source": [
    "###  Now since all variable may not be of use, please extract only the following variables for training. Preparing X (independent features) for the model building.\n",
    "\n",
    "```['Price_in_thousands','Engine_size','Wheelbase','Fuel_efficiency','Vehicle_type_Passenger']```"
   ]
  },
  {
   "cell_type": "code",
   "execution_count": 15,
   "metadata": {},
   "outputs": [
    {
     "name": "stdout",
     "output_type": "stream",
     "text": [
      "   Price_in_thousands  Engine_size  Wheelbase  Fuel_efficiency  \\\n",
      "0           -0.403867    -1.268771  -0.856756         0.971917   \n",
      "1            0.091168     0.188592   0.103064         0.256908   \n",
      "2            0.134214     0.188592  -0.063862         0.495244   \n",
      "3            1.066888     0.500884   1.007242        -0.458101   \n",
      "4           -0.225224    -1.268771  -0.662010         0.733581   \n",
      "\n",
      "   Vehicle_type_Passenger  \n",
      "0                0.582349  \n",
      "1                0.582349  \n",
      "2                0.582349  \n",
      "3                0.582349  \n",
      "4                0.582349  \n"
     ]
    }
   ],
   "source": [
    "X = pd.DataFrame()\n",
    "feature_cols = ['Price_in_thousands','Engine_size','Wheelbase','Fuel_efficiency','Vehicle_type_Passenger']                \n",
    "def lr(cars):\n",
    "    # assign values of fature_cols to X\n",
    "    #X= pd.DataFrame(cars[columns], columns= feature_cols)\n",
    "    X= cars[feature_cols]\n",
    "    return X\n",
    "X = lr(cars)\n",
    "print(X.head())"
   ]
  },
  {
   "cell_type": "markdown",
   "metadata": {},
   "source": [
    "### Check for the type and shape of X."
   ]
  },
  {
   "cell_type": "code",
   "execution_count": 16,
   "metadata": {},
   "outputs": [
    {
     "name": "stdout",
     "output_type": "stream",
     "text": [
      "<class 'pandas.core.frame.DataFrame'>\n",
      "(154, 5)\n"
     ]
    }
   ],
   "source": [
    "def lr():\n",
    "    print(type(X))\n",
    "    print(X.shape)\n",
    "lr()"
   ]
  },
  {
   "cell_type": "markdown",
   "metadata": {},
   "source": [
    "###  Extract y (dependent variable) for model building.\n",
    "```['Sales_in_thousands']```"
   ]
  },
  {
   "cell_type": "code",
   "execution_count": 17,
   "metadata": {},
   "outputs": [
    {
     "name": "stdout",
     "output_type": "stream",
     "text": [
      "0    16.919\n",
      "1    39.384\n",
      "2    14.114\n",
      "3     8.588\n",
      "4    20.397\n",
      "Name: Sales_in_thousands, dtype: float64\n"
     ]
    }
   ],
   "source": [
    "y = pd.DataFrame()\n",
    "def lr(car_dummy):\n",
    "    # assign the dependent variable to y dataframe\n",
    "    y=car_dummy['Sales_in_thousands']\n",
    "    return y\n",
    "y = lr(car_dummy)\n",
    "print(y.head())"
   ]
  },
  {
   "cell_type": "markdown",
   "metadata": {},
   "source": [
    "### Check for the type and shape of y. "
   ]
  },
  {
   "cell_type": "code",
   "execution_count": 18,
   "metadata": {},
   "outputs": [
    {
     "name": "stdout",
     "output_type": "stream",
     "text": [
      "<class 'pandas.core.series.Series'>\n",
      "(154,)\n"
     ]
    }
   ],
   "source": [
    "def lr():\n",
    "    print(type(y))\n",
    "    print(y.shape)\n",
    "lr()"
   ]
  },
  {
   "cell_type": "markdown",
   "metadata": {},
   "source": [
    "<a id=section403></a>"
   ]
  },
  {
   "cell_type": "markdown",
   "metadata": {},
   "source": [
    "###  Split the value of X and y into train and test datasets."
   ]
  },
  {
   "cell_type": "code",
   "execution_count": 19,
   "metadata": {},
   "outputs": [
    {
     "name": "stderr",
     "output_type": "stream",
     "text": [
      "C:\\Users\\SUDHIR\\Anaconda3\\lib\\site-packages\\sklearn\\cross_validation.py:41: DeprecationWarning: This module was deprecated in version 0.18 in favor of the model_selection module into which all the refactored classes and functions are moved. Also note that the interface of the new CV iterators are different from that of this module. This module will be removed in 0.20.\n",
      "  \"This module will be removed in 0.20.\", DeprecationWarning)\n"
     ]
    }
   ],
   "source": [
    "from sklearn.cross_validation import train_test_split\n",
    "def lr():\n",
    "    return train_test_split(X, y, test_size = 0.7, random_state = 1)\n",
    "\n",
    "# train test split using train test split of 70:30 and random state=1\n",
    "X_train, X_test, y_train, y_test = lr()"
   ]
  },
  {
   "cell_type": "markdown",
   "metadata": {},
   "source": [
    "### Check the shape of  X and y of train dataset."
   ]
  },
  {
   "cell_type": "code",
   "execution_count": 20,
   "metadata": {},
   "outputs": [
    {
     "name": "stdout",
     "output_type": "stream",
     "text": [
      "(46, 5)\n",
      "(46,)\n"
     ]
    }
   ],
   "source": [
    "def lr():\n",
    "    print(X_train.shape)\n",
    "    print(y_train.shape)\n",
    "lr()"
   ]
  },
  {
   "cell_type": "markdown",
   "metadata": {},
   "source": [
    "### Check the shape of X and y of test dataset."
   ]
  },
  {
   "cell_type": "code",
   "execution_count": 21,
   "metadata": {},
   "outputs": [
    {
     "name": "stdout",
     "output_type": "stream",
     "text": [
      "(108, 5)\n",
      "(108,)\n"
     ]
    }
   ],
   "source": [
    "def lr():\n",
    "    print(X_test.shape)\n",
    "    print(y_test.shape)\n",
    "lr()"
   ]
  },
  {
   "cell_type": "markdown",
   "metadata": {},
   "source": [
    "<a id=section404></a>"
   ]
  },
  {
   "cell_type": "markdown",
   "metadata": {},
   "source": [
    "###  Instantiate Linear regression model using scikit-learn"
   ]
  },
  {
   "cell_type": "code",
   "execution_count": 22,
   "metadata": {},
   "outputs": [],
   "source": [
    "from sklearn.linear_model import LinearRegression\n",
    "def lr():\n",
    "    #initiate the linear regression model to new variable linreg\n",
    "    linreg = LinearRegression()\n",
    "    return linreg\n",
    "linreg = lr()"
   ]
  },
  {
   "cell_type": "markdown",
   "metadata": {},
   "source": [
    "###   Fit the linear model on X_train and y_train."
   ]
  },
  {
   "cell_type": "code",
   "execution_count": 23,
   "metadata": {},
   "outputs": [],
   "source": [
    "def lr():\n",
    "    # fit the X_train and y_train\n",
    "    linreg.fit(X_train, y_train)\n",
    "    # We don't expect any return from your side.\n",
    "lr()"
   ]
  },
  {
   "cell_type": "markdown",
   "metadata": {},
   "source": [
    "<a id=section405></a>"
   ]
  },
  {
   "cell_type": "markdown",
   "metadata": {},
   "source": [
    "###  Interpret the Model Coefficients."
   ]
  },
  {
   "cell_type": "code",
   "execution_count": 24,
   "metadata": {},
   "outputs": [
    {
     "name": "stdout",
     "output_type": "stream",
     "text": [
      "intercept is -  56.882889291718335\n",
      "coefficients are -  [-38.27178224  24.34336429  28.843472    16.3812925  -10.86982324]\n"
     ]
    }
   ],
   "source": [
    "def lr():\n",
    "    # print the linreg.intercet\n",
    "    print('intercept is - ', linreg.intercept_)\n",
    "        # print the linreg.coefficient\n",
    "    print('coefficients are - ', linreg.coef_)\n",
    "lr()"
   ]
  },
  {
   "cell_type": "markdown",
   "metadata": {},
   "source": [
    "###  Zip the features to pair the feature names with the coefficients."
   ]
  },
  {
   "cell_type": "code",
   "execution_count": 25,
   "metadata": {},
   "outputs": [
    {
     "name": "stdout",
     "output_type": "stream",
     "text": [
      "Intercept 56.882889291718335\n",
      "Price_in_thousands -38.271782238336904\n",
      "Engine_size 24.343364286387096\n",
      "Wheelbase 28.84347200445729\n",
      "Fuel_efficiency 16.38129249901723\n",
      "Vehicle_type_Passenger -10.869823242174665\n"
     ]
    }
   ],
   "source": [
    "feature_cols = ['Price_in_thousands','Engine_size','Wheelbase','Fuel_efficiency','Vehicle_type_Passenger']                \n",
    "\n",
    "def lr():\n",
    "    # insert Intercept variable with the feature_cols\n",
    "    feature_cols.insert(0, 'Intercept')\n",
    "    # make a list using linreg.coef\n",
    "    list_ = linreg.coef_.tolist()\n",
    "    # insert the intercept value respectively\n",
    "    list_.insert(0, linreg.intercept_ )\n",
    "    # creating a variable to zip feature_cols and their coef.\n",
    "    zip_ = zip(feature_cols, list_)\n",
    "    # use for loop the get the value of feature_cols and their coef\n",
    "    for a1, a2 in zip_:\n",
    "        print(a1, a2)\n",
    "    # print the above values\n",
    "lr()"
   ]
  },
  {
   "cell_type": "markdown",
   "metadata": {},
   "source": [
    "###   Predict the train value using the built model."
   ]
  },
  {
   "cell_type": "code",
   "execution_count": 26,
   "metadata": {},
   "outputs": [
    {
     "data": {
      "text/html": [
       "<div>\n",
       "<style scoped>\n",
       "    .dataframe tbody tr th:only-of-type {\n",
       "        vertical-align: middle;\n",
       "    }\n",
       "\n",
       "    .dataframe tbody tr th {\n",
       "        vertical-align: top;\n",
       "    }\n",
       "\n",
       "    .dataframe thead th {\n",
       "        text-align: right;\n",
       "    }\n",
       "</style>\n",
       "<table border=\"1\" class=\"dataframe\">\n",
       "  <thead>\n",
       "    <tr style=\"text-align: right;\">\n",
       "      <th></th>\n",
       "      <th>sales</th>\n",
       "    </tr>\n",
       "  </thead>\n",
       "  <tbody>\n",
       "    <tr>\n",
       "      <th>0</th>\n",
       "      <td>43.536081</td>\n",
       "    </tr>\n",
       "    <tr>\n",
       "      <th>1</th>\n",
       "      <td>104.777123</td>\n",
       "    </tr>\n",
       "    <tr>\n",
       "      <th>2</th>\n",
       "      <td>48.515332</td>\n",
       "    </tr>\n",
       "    <tr>\n",
       "      <th>3</th>\n",
       "      <td>108.087702</td>\n",
       "    </tr>\n",
       "    <tr>\n",
       "      <th>4</th>\n",
       "      <td>54.439044</td>\n",
       "    </tr>\n",
       "  </tbody>\n",
       "</table>\n",
       "</div>"
      ],
      "text/plain": [
       "        sales\n",
       "0   43.536081\n",
       "1  104.777123\n",
       "2   48.515332\n",
       "3  108.087702\n",
       "4   54.439044"
      ]
     },
     "execution_count": 26,
     "metadata": {},
     "output_type": "execute_result"
    }
   ],
   "source": [
    "y_pred_train = linreg.predict(X_train)\n",
    "pred= pd.DataFrame(y_pred_train)\n",
    "def lr():  \n",
    "    # provide column header as sales for pred\n",
    "    pred.columns = ['sales']\n",
    "    # check for head \n",
    "    head = pred.head()\n",
    "    return head\n",
    "lr()"
   ]
  },
  {
   "cell_type": "markdown",
   "metadata": {},
   "source": [
    "###  Predict the test value using the built model."
   ]
  },
  {
   "cell_type": "code",
   "execution_count": 27,
   "metadata": {},
   "outputs": [
    {
     "data": {
      "text/html": [
       "<div>\n",
       "<style scoped>\n",
       "    .dataframe tbody tr th:only-of-type {\n",
       "        vertical-align: middle;\n",
       "    }\n",
       "\n",
       "    .dataframe tbody tr th {\n",
       "        vertical-align: top;\n",
       "    }\n",
       "\n",
       "    .dataframe thead th {\n",
       "        text-align: right;\n",
       "    }\n",
       "</style>\n",
       "<table border=\"1\" class=\"dataframe\">\n",
       "  <thead>\n",
       "    <tr style=\"text-align: right;\">\n",
       "      <th></th>\n",
       "      <th>sales</th>\n",
       "    </tr>\n",
       "  </thead>\n",
       "  <tbody>\n",
       "    <tr>\n",
       "      <th>0</th>\n",
       "      <td>42.383811</td>\n",
       "    </tr>\n",
       "    <tr>\n",
       "      <th>1</th>\n",
       "      <td>76.134192</td>\n",
       "    </tr>\n",
       "    <tr>\n",
       "      <th>2</th>\n",
       "      <td>22.754072</td>\n",
       "    </tr>\n",
       "    <tr>\n",
       "      <th>3</th>\n",
       "      <td>25.347419</td>\n",
       "    </tr>\n",
       "    <tr>\n",
       "      <th>4</th>\n",
       "      <td>68.563857</td>\n",
       "    </tr>\n",
       "  </tbody>\n",
       "</table>\n",
       "</div>"
      ],
      "text/plain": [
       "       sales\n",
       "0  42.383811\n",
       "1  76.134192\n",
       "2  22.754072\n",
       "3  25.347419\n",
       "4  68.563857"
      ]
     },
     "execution_count": 27,
     "metadata": {},
     "output_type": "execute_result"
    }
   ],
   "source": [
    "y_pred_test = linreg.predict(X_test)    \n",
    "pred_test= pd.DataFrame(y_pred_test)\n",
    "def lr():\n",
    "    # provide column header as sales for pred\n",
    "    pred_test.columns = ['sales']\n",
    "    # check for head\n",
    "    head = pred_test.head()\n",
    "    return head\n",
    "lr()"
   ]
  },
  {
   "cell_type": "markdown",
   "metadata": {},
   "source": [
    "<a id=section406></a>"
   ]
  },
  {
   "cell_type": "markdown",
   "metadata": {},
   "source": [
    "###  Evaluate the model using Mean Absolute Error metrics for both train and test."
   ]
  },
  {
   "cell_type": "code",
   "execution_count": 28,
   "metadata": {},
   "outputs": [
    {
     "name": "stdout",
     "output_type": "stream",
     "text": [
      "43.49739694066547\n",
      "43.6772432180152\n"
     ]
    }
   ],
   "source": [
    "from sklearn import metrics\n",
    "def lr():\n",
    "    # Calculate MAE for train \n",
    "    from sklearn.metrics import mean_absolute_error\n",
    "    MAE_train = mean_absolute_error(y_train, y_pred_train)\n",
    "    # Calculate MAE for test \n",
    "    MAE_test = mean_absolute_error(y_test, y_pred_test)\n",
    "    # print MAE for train\n",
    "    print(MAE_train)\n",
    "    # print MAE for test\n",
    "    print(MAE_test)\n",
    "lr()"
   ]
  },
  {
   "cell_type": "markdown",
   "metadata": {},
   "source": [
    "###  Evaluate the model using Mean Squared Error for both train and test."
   ]
  },
  {
   "cell_type": "code",
   "execution_count": 29,
   "metadata": {},
   "outputs": [
    {
     "name": "stdout",
     "output_type": "stream",
     "text": [
      "MSE for train is 3893.6701020851588\n",
      "MSE for test is 3634.7543287859994\n"
     ]
    }
   ],
   "source": [
    "def lr():\n",
    "    # Calculate MSE for train \n",
    "    MSE_train = metrics.mean_squared_error(y_train, y_pred_train)\n",
    "    # Calculate MSE for test \n",
    "    MSE_test = metrics. mean_squared_error(y_test, y_pred_test)\n",
    "    # print MSE for train\n",
    "    print('MSE for train is {}'.format(MSE_train))\n",
    "    # print MSE for test\n",
    "    print('MSE for test is {}'.format(MSE_test))\n",
    "lr()"
   ]
  },
  {
   "cell_type": "markdown",
   "metadata": {},
   "source": [
    "###   Evaluate the model using Root Mean Squared Error for both train and test."
   ]
  },
  {
   "cell_type": "code",
   "execution_count": 30,
   "metadata": {},
   "outputs": [
    {
     "name": "stdout",
     "output_type": "stream",
     "text": [
      "RMSE train is 62.39927965998613\n",
      "RMSE test is 60.288923765365055\n"
     ]
    }
   ],
   "source": [
    "import numpy as np\n",
    "def lr():\n",
    "    # Calculate RMSE for train \n",
    "    RMSE_train = np.sqrt(metrics.mean_squared_error(y_train, y_pred_train))\n",
    "    # Calculate RMSE for test \n",
    "    RMSE_test = np.sqrt(metrics. mean_squared_error(y_test, y_pred_test))\n",
    "    # print RMSE for train\n",
    "    print('RMSE train is {}'.format(RMSE_train))\n",
    "    # print RMSE for test\n",
    "    print('RMSE test is {}'.format(RMSE_test))\n",
    "lr()"
   ]
  },
  {
   "cell_type": "markdown",
   "metadata": {},
   "source": [
    "###  Evaluate the model using R-square value for both train and test."
   ]
  },
  {
   "cell_type": "code",
   "execution_count": 31,
   "metadata": {},
   "outputs": [
    {
     "name": "stdout",
     "output_type": "stream",
     "text": [
      "0.21409275419135465\n",
      "0.02978659387476279\n"
     ]
    }
   ],
   "source": [
    "from sklearn.metrics import r2_score\n",
    "def lr():\n",
    "    # Calculate r2 for train \n",
    "    r2_train = metrics.r2_score(y_train, y_pred_train)\n",
    "    # Calculate r2 for test \n",
    "    r2_test = metrics.r2_score(y_test, y_pred_test)\n",
    "    # print r2 for train\n",
    "    print(r2_train)\n",
    "    # print r2 for test\n",
    "    print(r2_test)\n",
    "lr()"
   ]
  }
 ],
 "metadata": {
  "kernelspec": {
   "display_name": "Python 3",
   "language": "python",
   "name": "python3"
  },
  "language_info": {
   "codemirror_mode": {
    "name": "ipython",
    "version": 3
   },
   "file_extension": ".py",
   "mimetype": "text/x-python",
   "name": "python",
   "nbconvert_exporter": "python",
   "pygments_lexer": "ipython3",
   "version": "3.6.5"
  }
 },
 "nbformat": 4,
 "nbformat_minor": 2
}
